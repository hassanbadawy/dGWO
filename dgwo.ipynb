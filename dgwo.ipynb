{
 "cells": [
  {
   "cell_type": "code",
   "execution_count": 1,
   "metadata": {},
   "outputs": [],
   "source": [
    "#%% ---------------------------------Libraries---------------------------------\n",
    "from __future__ import division\n",
    "from __future__ import print_function\n",
    "# import torch\n",
    "import textdistance as td\n",
    "import pdb\n",
    "import glob\n",
    "import sys\n",
    "import random\n",
    "import numpy as np\n",
    "import matplotlib.pyplot as plt\n",
    "\n",
    "import time\n",
    "import os\n",
    "import copy as cp\n",
    "from collections import deque\n",
    "import pandas as pd\n",
    "from scipy.optimize import curve_fit\n",
    "\n",
    "from sklearn.metrics import accuracy_score\n",
    "from sklearn.metrics import classification_report\n",
    "\n",
    "from tqdm import tqdm_notebook as tqdm\n",
    "%matplotlib inline"
   ]
  },
  {
   "cell_type": "code",
   "execution_count": 32,
   "metadata": {},
   "outputs": [
    {
     "ename": "SyntaxError",
     "evalue": "invalid syntax (<ipython-input-32-189f2e96e80b>, line 41)",
     "output_type": "error",
     "traceback": [
      "\u001b[0;36m  File \u001b[0;32m\"<ipython-input-32-189f2e96e80b>\"\u001b[0;36m, line \u001b[0;32m41\u001b[0m\n\u001b[0;31m    mutation_pool = random.sample(self.pool,mutate_value)\u001b[0m\n\u001b[0m                ^\u001b[0m\n\u001b[0;31mSyntaxError\u001b[0m\u001b[0;31m:\u001b[0m invalid syntax\n"
     ]
    }
   ],
   "source": [
    "class dgwo():\n",
    "    def __init__(self, pool, indv_size, pop_size, target='', mutation_rate = 0.1, crossover_rate = 0.5):\n",
    "        self.pool = pool\n",
    "        self.indv_size = indv_size\n",
    "        self.pop_size = pop_size\n",
    "        self.target = target\n",
    "        self.indv = []\n",
    "        self.pop = []\n",
    "        self.mutation_rate = mutation_rate\n",
    "        self.crossover_rate = crossover_rate\n",
    "\n",
    "    def individual(self,):\n",
    "        self.indv = random.sample(self.pool,self.indv_size)\n",
    "        return self.indv \n",
    "\n",
    "    def populate(self,):\n",
    "        for n in range(self.pop_size):\n",
    "            self.pop.append(self.individual())\n",
    "        return self.pop\n",
    "\n",
    "    def objf1(self,):\n",
    "        '''\n",
    "        This function calculate if the given individual equal to the designated target.\n",
    "        sum(indiv) = target\n",
    "        target - sum(indiv) = 0\n",
    "        '''\n",
    "        return abs(self.target - sum(self.indv))\n",
    "\n",
    "    def objf2(self,):\n",
    "        '''\n",
    "        This function check if the given two text is the same or not using the levenshtein normalized distance,\n",
    "        if the to text is identical, return 0.0 else return 0.0> = number <= 1.0. \n",
    "        '''\n",
    "        return td.levenshtein.normalized_distance(''.join(self.indv), self.target)\n",
    "\n",
    "    def mutate(self,):\n",
    "        '''\n",
    "        this function return the mutation for chiled by mutation rate as a factor.\n",
    "        '''\n",
    "        mutate_value = int(round(self.mutation_rate * len(self.indv))\n",
    "        mutation_pool = random.sample(self.pool, mutate_value)\n",
    "        for i in range(mutate_value):\n",
    "            mutation_value = random.choice(mutation_pool)\n",
    "            mutation_pool.pop(mutation_value)\n",
    "            self.indiv[random.randint(0,self.iniv_size)] = mutation_value\n",
    "        return self.indiv"
   ]
  },
  {
   "cell_type": "code",
   "execution_count": null,
   "metadata": {},
   "outputs": [],
   "source": []
  },
  {
   "cell_type": "code",
   "execution_count": 210,
   "metadata": {
    "_uuid": "86233ba04ef01e51ac8aaf248a69382ba94c1de7"
   },
   "outputs": [],
   "source": [
    "def crossover2(indv1, indv2, crossover_rate):\n",
    "    '''\n",
    "    this function return the cross over between two agents defined by crossover rate.\n",
    "    '''\n",
    "    indv1, indv2 = np.array(indv1), np.array(indv2)\n",
    "    crossover_value = int(round(crossover_rate * len(indv1),0))\n",
    "    \n",
    "    flag = np.random.randint(0,2)\n",
    "    if flag==1:\n",
    "        child = np.hstack((indv1[:crossover_value] , indv2[crossover_value:]))\n",
    "        \n",
    "    else:\n",
    "        child = np.hstack((indv2[:crossover_value] , indv1[crossover_value:]))\n",
    "    return child"
   ]
  },
  {
   "cell_type": "code",
   "execution_count": 211,
   "metadata": {},
   "outputs": [
    {
     "data": {
      "text/plain": [
       "array([1, 0, 0, 1, 0, 1, 0, 0, 1, 0, 1, 1, 1, 0, 0, 0, 0, 0, 0, 1, 1, 1,\n",
       "       1, 0, 1, 1, 1, 1, 0, 1, 0, 1])"
      ]
     },
     "execution_count": 211,
     "metadata": {},
     "output_type": "execute_result"
    }
   ],
   "source": [
    "indv1"
   ]
  },
  {
   "cell_type": "code",
   "execution_count": 229,
   "metadata": {},
   "outputs": [
    {
     "data": {
      "text/plain": [
       "array([0, 0, 0, 1, 1, 1, 1, 0, 1, 0])"
      ]
     },
     "execution_count": 229,
     "metadata": {},
     "output_type": "execute_result"
    }
   ],
   "source": [
    "indv1 = pop[1]\n",
    "indv2 = pop[2]\n",
    "crossover_rate = 0.5\n",
    "crossover2(indv1, indv2, crossover_rate)"
   ]
  },
  {
   "cell_type": "code",
   "execution_count": 238,
   "metadata": {
    "_uuid": "68ca65da5909d52b0fb8a515bb2668f7ca9d8256"
   },
   "outputs": [],
   "source": [
    "def crossover3(indv1, indv2, indv3, crossover_rate):\n",
    "    '''\n",
    "    this function return the cross over between three indvs defined by crossover rate.\n",
    "    '''\n",
    "    indv1, indv2, indv3 = np.array(indv1), np.array(indv2), np.array(indv3)\n",
    "    crossover_value = int(round(crossover_rate * len(indv1),0))\n",
    "    flag = np.random.randint(0,3)\n",
    "    if flag == 0: \n",
    "        child = np.hstack((indv1[:crossover_value] , \n",
    "                           indv2[crossover_value:crossover_value*2], \n",
    "                           indv3[crossover_value*2:]))\n",
    "    elif flag == 1: \n",
    "        child = np.hstack((indv1[:crossover_value] , \n",
    "                           indv3[crossover_value:crossover_value*2], \n",
    "                           indv2[crossover_value*2:]))\n",
    "    else: \n",
    "        child = np.hstack((indv3[:crossover_value] , \n",
    "                           indv2[crossover_value:crossover_value*2], \n",
    "                           indv1[crossover_value*2:]))\n",
    "    return child"
   ]
  },
  {
   "cell_type": "code",
   "execution_count": 241,
   "metadata": {},
   "outputs": [
    {
     "data": {
      "text/plain": [
       "array([0, 0, 0, 1, 0, 1, 0, 0, 0, 0])"
      ]
     },
     "execution_count": 241,
     "metadata": {},
     "output_type": "execute_result"
    }
   ],
   "source": [
    "indv1 = pop[1]\n",
    "indv2 = pop[2]\n",
    "indv3 = pop[3]\n",
    "crossover_rate = 0.3\n",
    "crossover3(indv1, indv2, indv3, crossover_rate)"
   ]
  },
  {
   "cell_type": "code",
   "execution_count": 300,
   "metadata": {
    "_uuid": "93414fc8bb3667189394d223448886508e11f4f7"
   },
   "outputs": [],
   "source": [
    "gen_no=1*20; run_no = 5;POP_SIZE = 25;mutate_rate = 0.2"
   ]
  },
  {
   "cell_type": "code",
   "execution_count": 301,
   "metadata": {
    "_cell_guid": "79c7e3d0-c299-4dcb-8224-4455121ee9b0",
    "_uuid": "d629ff2d2480ee46fbb7e2d37f6b5fab8052498a"
   },
   "outputs": [
    {
     "name": "stderr",
     "output_type": "stream",
     "text": [
      "/home/ai/anaconda3/lib/python3.7/site-packages/ipykernel_launcher.py:2: FutureWarning: elementwise comparison failed; returning scalar instead, but in the future will perform elementwise comparison\n",
      "  \n"
     ]
    },
    {
     "data": {
      "application/vnd.jupyter.widget-view+json": {
       "model_id": "f69fcf49f853459197299f7cadb44627",
       "version_major": 2,
       "version_minor": 0
      },
      "text/plain": [
       "HBox(children=(IntProgress(value=0, max=20), HTML(value='')))"
      ]
     },
     "metadata": {},
     "output_type": "display_data"
    },
    {
     "name": "stderr",
     "output_type": "stream",
     "text": [
      "/home/ai/anaconda3/lib/python3.7/site-packages/ipykernel_launcher.py:2: FutureWarning: elementwise comparison failed; returning scalar instead, but in the future will perform elementwise comparison\n",
      "  \n"
     ]
    },
    {
     "data": {
      "application/vnd.jupyter.widget-view+json": {
       "model_id": "b0ab4f6f223b4bb4aafafc9aac510140",
       "version_major": 2,
       "version_minor": 0
      },
      "text/plain": [
       "HBox(children=(IntProgress(value=0, max=20), HTML(value='')))"
      ]
     },
     "metadata": {},
     "output_type": "display_data"
    },
    {
     "name": "stderr",
     "output_type": "stream",
     "text": [
      "/home/ai/anaconda3/lib/python3.7/site-packages/ipykernel_launcher.py:2: FutureWarning: elementwise comparison failed; returning scalar instead, but in the future will perform elementwise comparison\n",
      "  \n"
     ]
    },
    {
     "data": {
      "application/vnd.jupyter.widget-view+json": {
       "model_id": "574983a2bd324312876deb76f24f3eed",
       "version_major": 2,
       "version_minor": 0
      },
      "text/plain": [
       "HBox(children=(IntProgress(value=0, max=20), HTML(value='')))"
      ]
     },
     "metadata": {},
     "output_type": "display_data"
    },
    {
     "name": "stderr",
     "output_type": "stream",
     "text": [
      "/home/ai/anaconda3/lib/python3.7/site-packages/ipykernel_launcher.py:2: FutureWarning: elementwise comparison failed; returning scalar instead, but in the future will perform elementwise comparison\n",
      "  \n"
     ]
    },
    {
     "data": {
      "application/vnd.jupyter.widget-view+json": {
       "model_id": "a48edb58be82479385a0b35ab7cfba54",
       "version_major": 2,
       "version_minor": 0
      },
      "text/plain": [
       "HBox(children=(IntProgress(value=0, max=20), HTML(value='')))"
      ]
     },
     "metadata": {},
     "output_type": "display_data"
    },
    {
     "name": "stderr",
     "output_type": "stream",
     "text": [
      "/home/ai/anaconda3/lib/python3.7/site-packages/ipykernel_launcher.py:2: FutureWarning: elementwise comparison failed; returning scalar instead, but in the future will perform elementwise comparison\n",
      "  \n"
     ]
    },
    {
     "data": {
      "application/vnd.jupyter.widget-view+json": {
       "model_id": "c153600e1b9e4b9696b1e65698c430d9",
       "version_major": 2,
       "version_minor": 0
      },
      "text/plain": [
       "HBox(children=(IntProgress(value=0, max=20), HTML(value='')))"
      ]
     },
     "metadata": {},
     "output_type": "display_data"
    }
   ],
   "source": [
    "columns = ['run_no','loss','Excec_Time','best_solution', 'best_10_solutions']\n",
    "df = pd.DataFrame(columns = columns)\n",
    "conv_df = pd.DataFrame(np.zeros((gen_no)))\n",
    "\n",
    "for run_no_i in range(run_no):\n",
    "\n",
    "    Convergence_curve = []                    \n",
    "                       \n",
    "    Last_Alpha_score =float(\"inf\")\n",
    "\n",
    "    IND_SIZE = X_train.shape[1]\n",
    "    #-------------------------------------------------\n",
    "\n",
    "#     pdb.set_trace()\n",
    "    FILE_PATH = 'data/best_features_scores_all.csv'\n",
    "    init_arr = init_pop(FILE_PATH)\n",
    "    Positions = populate(POP_SIZE, init_arr=init_arr)\n",
    "\n",
    "    pos_fit = []\n",
    "\n",
    "    fitness_arr = np.array([[1, np.asarray(Positions[0])]])\n",
    "    #--------------------------------------------------\n",
    "    timerStart = time.time()\n",
    "    df_list = []\n",
    "    #--------------------------------------------------    \n",
    "    for gen_no_i in tqdm(range(gen_no)):\n",
    "#         sys.stdout.write(\"\\r%.2f%%\" % ((gen_no_i+1)*100/gen_no))\n",
    "#         sys.stdout.flush()\n",
    "        for agent in  Positions:\n",
    "            idx = np.where(agent == 1)[0].tolist()\n",
    "            new_X_train = X_train[:, idx]\n",
    "            new_X_test = X_test[:, idx]\n",
    "            fitness = objf_lgbm(new_X_train, new_X_test, y_train, y_test)\n",
    "            arr1 = np.array([[fitness, np.asarray(agent)]])\n",
    "            fitness_arr=np.vstack((fitness_arr,arr1))  \n",
    "            pos_fit.append([fitness, agent])\n",
    "\n",
    "        fitness_arr = fitness_arr[fitness_arr[:,0].argsort()]    \n",
    "        Alpha_score, Alpha_pos = fitness_arr[0][0], list(fitness_arr[0][1])\n",
    "        Beta_score, Beta_pos   = fitness_arr[1][0], list(fitness_arr[1][1])\n",
    "        Delta_score, Delta_pos = fitness_arr[2][0], list(fitness_arr[2][1])\n",
    "    #---------------------------------------------------------------------    \n",
    "        if Alpha_score<Last_Alpha_score:\n",
    "            Last_Alpha_score = Alpha_score\n",
    "        Convergence_curve.append(Last_Alpha_score)\n",
    "        \n",
    "    #--------------------------Start prey search----------------------------------------------------    \n",
    "    #       a=2-l*((2)/gen_no); # a decreases linearly fron 2 to 0 --> a =\n",
    "        a= 2*(1-(gen_no_i/gen_no)**2)\n",
    "        for i in range(POP_SIZE):               \n",
    "            X1,X2,X3 = [], [], []\n",
    "            r1=random.random() # if r1>0.5: A1=[0:2] -->converge --> crossover\n",
    "            r2=random.random() # if r1<0.5: A1=[-2:0] --> Diverge --> Mutation\n",
    "            A1=2*a*r1-a; # Equation (3.3)\n",
    "            C1=2*r2; # Equation (3.4)\n",
    "            B0 = []            \n",
    "            agent_fitness = pos_fit[i][0]\n",
    "            B0 = cp.deepcopy(pos_fit[i][1])\n",
    "            D_alpha = abs((agent_fitness - C1*Alpha_score)/agent_fitness) \n",
    "            if abs(A1)>=1:\n",
    "                #Exploration\n",
    "                X1 = mutate(B0, D_alpha)\n",
    "            if abs(A1)<1:\n",
    "                #Exploitation\n",
    "                X1 = crossover2(Alpha_pos, B0, D_alpha)\n",
    "\n",
    "            r1=random.random() # if r1>0.5: A1=[0:2] -->converge --> crossover\n",
    "            r2=random.random() # if r1<0.5: A1=[-2:0] --> Diverge --> Mutation\n",
    "            A2=2*a*r1-a; # Equation (3.3)\n",
    "            C2=2*r2; # Equation (3.4)\n",
    "\n",
    "            B0 = []\n",
    "            B0 = cp.deepcopy(pos_fit[i][1])\n",
    "            D_beta = abs((agent_fitness - C2*Beta_score)/agent_fitness)\n",
    "            if abs(A2)>=1:\n",
    "                #Exploration\n",
    "                X2 = mutate(B0, D_beta)\n",
    "            if abs(A2)<1:\n",
    "                #Exploitation\n",
    "                X2 = crossover2(Beta_pos, B0, D_beta)\n",
    "\n",
    "            r1=random.random() # if r1>0.5: A1=[0:2] -->converge --> crossover\n",
    "            r2=random.random() # if r1<0.5: A1=[-2:0] --> Diverge --> Mutation\n",
    "            A3=2*a*r1-a; # Equation (3.3)\n",
    "            C3=2*r2; # Equation (3.4)\n",
    "\n",
    "            B0 = []\n",
    "            B0 = cp.deepcopy(pos_fit[i][1])\n",
    "            D_delta = abs((agent_fitness - C3*Delta_score)/agent_fitness)\n",
    "            if abs(A3)>=1:\n",
    "                #Exploration\n",
    "                X3 = mutate(B0, D_delta)\n",
    "            if abs(A3)<1:\n",
    "                #Exploitation\n",
    "                X3 = crossover2(Delta_pos, B0, D_delta)\n",
    "\n",
    "            Positions[i] = crossover3(X1, X2, X3, 0.3)\n",
    "\n",
    "        pos_fit = []   \n",
    "        # Remove All Rows from fitness_arr Except first three (Alpha_ps, Beta_Pos, Delta_pos)\n",
    "        fitness_arr = np.delete(fitness_arr,np.s_[3:], axis=0)\n",
    "\n",
    "    Positions = np.array(pd.DataFrame(Positions).drop_duplicates())\n",
    "    fitness_arr = np.zeros((len(Positions),2), dtype='object')\n",
    "    for i,agent in  enumerate(Positions):\n",
    "        idx = np.where(agent == 1)[0].tolist()\n",
    "        new_X_train = X_train[:, idx]\n",
    "        new_X_test = X_test[:, idx]\n",
    "        fitness = objf_lgbm(new_X_train, new_X_test, y_train, y_test)\n",
    "        fitness_arr[i,0] = fitness\n",
    "        fitness_arr[i,1] = agent.tolist()\n",
    "\n",
    "    fitness_arr = fitness_arr[fitness_arr[:,0].argsort()] \n",
    "    df_list = fitness_arr.tolist()\n",
    "    df = pd.DataFrame(df_list, columns=['loss', 'features'])\n",
    "    df.to_csv('data/best_features_scores_{}.csv'.format(run_no), index=False)"
   ]
  },
  {
   "cell_type": "code",
   "execution_count": 303,
   "metadata": {},
   "outputs": [],
   "source": [
    "agent = np.array([0, 0, 1, 0, 0, 0, 1, 0, 0, 0, 0, 0, 1, 1, 0, 1, 1, 1, 0, 1, 0, 1, 0, 1, 1, 0, 1, 0, 1, 1, 1, 1])"
   ]
  },
  {
   "cell_type": "code",
   "execution_count": 304,
   "metadata": {},
   "outputs": [],
   "source": [
    "idx = np.where(agent == 1)[0].tolist()\n",
    "new_X_train = X_train[:, idx]\n",
    "new_X_test = X_test[:, idx]\n",
    "fitness = objf_lgbm(new_X_train, new_X_test, y_train, y_test)"
   ]
  },
  {
   "cell_type": "code",
   "execution_count": 305,
   "metadata": {
    "_uuid": "e2e9714f7b90aa35c85fcae9a88afc2b3fc40d13"
   },
   "outputs": [
    {
     "data": {
      "text/plain": [
       "0.048688094076088206"
      ]
     },
     "execution_count": 305,
     "metadata": {},
     "output_type": "execute_result"
    }
   ],
   "source": [
    "fitness"
   ]
  },
  {
   "cell_type": "code",
   "execution_count": 306,
   "metadata": {
    "_uuid": "7e8d7ef7f72b88a45545d70ca2aa8b7f2d35918e"
   },
   "outputs": [
    {
     "data": {
      "text/plain": [
       "[2, 6, 12, 13, 15, 16, 17, 19, 21, 23, 24, 26, 28, 29, 30, 31]"
      ]
     },
     "execution_count": 306,
     "metadata": {},
     "output_type": "execute_result"
    }
   ],
   "source": [
    "idx"
   ]
  },
  {
   "cell_type": "code",
   "execution_count": 309,
   "metadata": {
    "_uuid": "d38e531a61f60cbcb8cc91ce1da7a35a12e41870"
   },
   "outputs": [],
   "source": [
    "SelectedFeatureInds = [0, 3, 4, 5, 6, 7, 8, 9, 10, 11, 21, 22, 23, 24, 29, 30, 31]\n",
    "idx=np.zeros(X.shape[1], dtype='bool')\n",
    "idx[SelectedFeatureInds]=1\n",
    "idx = idx.tolist()\n",
    "new_X_train = X_train[:, idx]\n",
    "new_X_test = X_test[:, idx]\n",
    "fitness = objf_lgbm(new_X_train, new_X_test, y_train, y_test)"
   ]
  },
  {
   "cell_type": "code",
   "execution_count": 310,
   "metadata": {
    "_uuid": "9746698ebc65e140f537894e248ed028253c7a4b"
   },
   "outputs": [
    {
     "data": {
      "text/plain": [
       "0.021404169281182495"
      ]
     },
     "execution_count": 310,
     "metadata": {},
     "output_type": "execute_result"
    }
   ],
   "source": [
    "fitness"
   ]
  },
  {
   "cell_type": "code",
   "execution_count": 311,
   "metadata": {},
   "outputs": [
    {
     "data": {
      "text/plain": [
       "0.01949847777080571"
      ]
     },
     "execution_count": 311,
     "metadata": {},
     "output_type": "execute_result"
    }
   ],
   "source": [
    "new_X_train = X_train\n",
    "new_X_test = X_test\n",
    "fitness = objf_lgbm(new_X_train, new_X_test, y_train, y_test)\n",
    "fitness"
   ]
  },
  {
   "cell_type": "code",
   "execution_count": null,
   "metadata": {},
   "outputs": [],
   "source": []
  }
 ],
 "metadata": {
  "kernelspec": {
   "display_name": "Python 3",
   "language": "python",
   "name": "python3"
  },
  "language_info": {
   "codemirror_mode": {
    "name": "ipython",
    "version": 3
   },
   "file_extension": ".py",
   "mimetype": "text/x-python",
   "name": "python",
   "nbconvert_exporter": "python",
   "pygments_lexer": "ipython3",
   "version": "3.7.3"
  },
  "toc": {
   "base_numbering": 1,
   "nav_menu": {},
   "number_sections": true,
   "sideBar": true,
   "skip_h1_title": false,
   "title_cell": "Table of Contents",
   "title_sidebar": "Contents",
   "toc_cell": false,
   "toc_position": {},
   "toc_section_display": true,
   "toc_window_display": false
  },
  "varInspector": {
   "cols": {
    "lenName": 16,
    "lenType": 16,
    "lenVar": 40
   },
   "kernels_config": {
    "python": {
     "delete_cmd_postfix": "",
     "delete_cmd_prefix": "del ",
     "library": "var_list.py",
     "varRefreshCmd": "print(var_dic_list())"
    },
    "r": {
     "delete_cmd_postfix": ") ",
     "delete_cmd_prefix": "rm(",
     "library": "var_list.r",
     "varRefreshCmd": "cat(var_dic_list()) "
    }
   },
   "types_to_exclude": [
    "module",
    "function",
    "builtin_function_or_method",
    "instance",
    "_Feature"
   ],
   "window_display": false
  }
 },
 "nbformat": 4,
 "nbformat_minor": 1
}